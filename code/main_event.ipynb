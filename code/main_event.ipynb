{
 "metadata": {
  "language_info": {
   "codemirror_mode": {
    "name": "ipython",
    "version": 3
   },
   "file_extension": ".py",
   "mimetype": "text/x-python",
   "name": "python",
   "nbconvert_exporter": "python",
   "pygments_lexer": "ipython3",
   "version": "3.7.7-final"
  },
  "orig_nbformat": 2,
  "kernelspec": {
   "name": "python_defaultSpec_1605636718665",
   "display_name": "Python 3.7.7 64-bit ('pyvizenv': conda)"
  }
 },
 "nbformat": 4,
 "nbformat_minor": 2,
 "cells": [
  {
   "cell_type": "code",
   "execution_count": 7,
   "metadata": {},
   "outputs": [],
   "source": [
    "import pandas as pd\n",
    "import random\n",
    "import os\n",
    "from flask import Flask, render_template, request, session, g, redirect\n",
    "import flashcards"
   ]
  },
  {
   "cell_type": "code",
   "execution_count": 8,
   "metadata": {},
   "outputs": [],
   "source": [
    "cards = pd.read_csv(\"../resources/categories.csv\")"
   ]
  },
  {
   "cell_type": "code",
   "execution_count": 9,
   "metadata": {},
   "outputs": [
    {
     "output_type": "execute_result",
     "data": {
      "text/plain": "  Front_Side                                          Back_Side\n0      Play:           the song for your American Idol audition\n1      Play:             the last song you added to you library\n2      Play:                                 a song about drugs\n3      Play:  your guilty pleasure song (ex: a BRO being a O...\n4      Play:                                         a rap song",
      "text/html": "<div>\n<style scoped>\n    .dataframe tbody tr th:only-of-type {\n        vertical-align: middle;\n    }\n\n    .dataframe tbody tr th {\n        vertical-align: top;\n    }\n\n    .dataframe thead th {\n        text-align: right;\n    }\n</style>\n<table border=\"1\" class=\"dataframe\">\n  <thead>\n    <tr style=\"text-align: right;\">\n      <th></th>\n      <th>Front_Side</th>\n      <th>Back_Side</th>\n    </tr>\n  </thead>\n  <tbody>\n    <tr>\n      <th>0</th>\n      <td>Play:</td>\n      <td>the song for your American Idol audition</td>\n    </tr>\n    <tr>\n      <th>1</th>\n      <td>Play:</td>\n      <td>the last song you added to you library</td>\n    </tr>\n    <tr>\n      <th>2</th>\n      <td>Play:</td>\n      <td>a song about drugs</td>\n    </tr>\n    <tr>\n      <th>3</th>\n      <td>Play:</td>\n      <td>your guilty pleasure song (ex: a BRO being a O...</td>\n    </tr>\n    <tr>\n      <th>4</th>\n      <td>Play:</td>\n      <td>a rap song</td>\n    </tr>\n  </tbody>\n</table>\n</div>"
     },
     "metadata": {},
     "execution_count": 9
    }
   ],
   "source": [
    "cards.head()"
   ]
  },
  {
   "cell_type": "code",
   "execution_count": 16,
   "metadata": {},
   "outputs": [],
   "source": [
    "#clean = cards.set_index(\"Front_Side\")\n",
    "#clean.head()"
   ]
  },
  {
   "cell_type": "code",
   "execution_count": 100,
   "metadata": {
    "tags": []
   },
   "outputs": [
    {
     "output_type": "stream",
     "name": "stdout",
     "text": "i hope you are a people pleaser \n"
    }
   ],
   "source": [
    "front_list = cards[\"Front_Side\"]\n",
    "\n",
    "front_item = random.choice(front_list)\n",
    "    \n",
    "print(f\"{front_item} \")"
   ]
  },
  {
   "cell_type": "code",
   "execution_count": 101,
   "metadata": {},
   "outputs": [
    {
     "output_type": "execute_result",
     "data": {
      "text/plain": "31"
     },
     "metadata": {},
     "execution_count": 101
    }
   ],
   "source": [
    "front_index_num = list(front_list).index(front_item)\n",
    "front_index_num"
   ]
  },
  {
   "cell_type": "code",
   "execution_count": 104,
   "metadata": {
    "tags": []
   },
   "outputs": [],
   "source": [
    "back_list = cards[\"Back_Side\"]\n",
    "\n",
    "back_item = back_list\n",
    "\n",
    "#print(f\"{back_item} \")"
   ]
  },
  {
   "cell_type": "code",
   "execution_count": 112,
   "metadata": {
    "tags": []
   },
   "outputs": [
    {
     "output_type": "stream",
     "name": "stdout",
     "text": "this code is fucked\nthis code is fucked\nthis code is fucked\nthis code is fucked\nthis code is fucked\nthis code is fucked\nthis code is fucked\nthis code is fucked\nthis code is fucked\nthis code is fucked\nthis code is fucked\nthis code is fucked\nthis code is fucked\nthis code is fucked\nthis code is fucked\nthis code is fucked\nthis code is fucked\nthis code is fucked\nthis code is fucked\nthis code is fucked\nthis code is fucked\nthis code is fucked\nthis code is fucked\nthis code is fucked\nthis code is fucked\nthis code is fucked\nthis code is fucked\nthis code is fucked\nthis code is fucked\nthis code is fucked\nthis code is fucked\nthis code is fucked\nthis code is fucked\nthis code is fucked\nthis code is fucked\nthis code is fucked\nthis code is fucked\nthis code is fucked\nthis code is fucked\nthis code is fucked\nthis code is fucked\nthis code is fucked\nthis code is fucked\nthis code is fucked\nthis code is fucked\nthis code is fucked\nthis code is fucked\nthis code is fucked\nthis code is fucked\nthis code is fucked\nthis code is fucked\nthis code is fucked\nthis code is fucked\nthis code is fucked\nthis code is fucked\nthis code is fucked\nthis code is fucked\nthis code is fucked\nthis code is fucked\nthis code is fucked\nthis code is fucked\nthis code is fucked\nthis code is fucked\nthis code is fucked\nthis code is fucked\nthis code is fucked\nthis code is fucked\nthis code is fucked\nthis code is fucked\nthis code is fucked\nthis code is fucked\nthis code is fucked\nthis code is fucked\nthis code is fucked\nthis code is fucked\nthis code is fucked\nthis code is fucked\nthis code is fucked\nthis code is fucked\nthis code is fucked\nthis code is fucked\nthis code is fucked\nthis code is fucked\nthis code is fucked\nthis code is fucked\nthis code is fucked\nthis code is fucked\nthis code is fucked\nthis code is fucked\nthis code is fucked\nthis code is fucked\nthis code is fucked\n"
    }
   ],
   "source": [
    "for item in back_list:\n",
    "    if cards[\"Back_Side\"].index.any == front_index_num:\n",
    "\n",
    "        print(\"back_item\")\n",
    "    else:\n",
    "        print ('this code is fucked')"
   ]
  },
  {
   "cell_type": "code",
   "execution_count": null,
   "metadata": {},
   "outputs": [],
   "source": []
  }
 ]
}